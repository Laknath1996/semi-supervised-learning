{
 "cells": [
  {
   "cell_type": "code",
   "execution_count": 2,
   "metadata": {},
   "outputs": [],
   "source": [
    "import numpy as np\n",
    "import scipy.io as sio\n",
    "import matplotlib.pyplot as plt\n",
    "from scipy.sparse import bsr_matrix, coo_matrix\n",
    "from scipy.sparse.linalg import eigsh\n",
    "import joblib\n",
    "from joblib import Parallel, delayed\n",
    "import itertools\n",
    "from sklearn.neighbors import NearestNeighbors, KNeighborsClassifier\n",
    "from sklearn.decomposition import PCA\n",
    "from tqdm import tqdm\n",
    "import contextlib\n",
    "import copy\n",
    "import seaborn as sns\n",
    "\n",
    "import sys\n",
    "import os\n",
    "sys.path.insert(1, os.path.dirname(os.getcwd()))"
   ]
  },
  {
   "cell_type": "code",
   "execution_count": 3,
   "metadata": {},
   "outputs": [],
   "source": [
    "# support functions\n",
    "@contextlib.contextmanager\n",
    "def tqdm_joblib(tqdm_object):\n",
    "    \"\"\"Context manager to patch joblib to report into tqdm progress bar given as argument\"\"\"\n",
    "    class TqdmBatchCompletionCallback(joblib.parallel.BatchCompletionCallBack):\n",
    "        def __call__(self, *args, **kwargs):\n",
    "            tqdm_object.update(n=self.batch_size)\n",
    "            return super().__call__(*args, **kwargs)\n",
    "\n",
    "    old_batch_callback = joblib.parallel.BatchCompletionCallBack\n",
    "    joblib.parallel.BatchCompletionCallBack = TqdmBatchCompletionCallback\n",
    "    try:\n",
    "        yield tqdm_object\n",
    "    finally:\n",
    "        joblib.parallel.BatchCompletionCallBack = old_batch_callback\n",
    "        tqdm_object.close()"
   ]
  },
  {
   "cell_type": "code",
   "execution_count": 4,
   "metadata": {},
   "outputs": [],
   "source": [
    "def construct_adjacency_matrix(X, n):\n",
    "    k = X.shape[0]\n",
    "    W = np.zeros((k, k))\n",
    "    neigh = NearestNeighbors(n_neighbors=n+1).fit(X)\n",
    "    neighbors = neigh.kneighbors(X, n_neighbors=n+1, return_distance=False)[:, 1:]\n",
    "    for i in range(k):\n",
    "        W[i, neighbors[i]] = 1\n",
    "    W = coo_matrix(W)\n",
    "    W = W + W.transpose()\n",
    "    W = W.sign()\n",
    "    return W\n",
    "\n",
    "def train_and_evaluate(v, s, labels):\n",
    "    E = v[:s]\n",
    "    conf = []\n",
    "    for label in np.unique(labels):\n",
    "        Y = np.copy(labels)\n",
    "        Y[labels == label] = 1\n",
    "        Y[labels != label] = -1\n",
    "        a = np.linalg.pinv(E) @ Y[:s]\n",
    "        conf.append(np.sum(v[s:] * a, axis=1).tolist())\n",
    "    conf = np.array(conf)\n",
    "    pred_labels = np.argmax(conf, axis=0)\n",
    "    return np.mean(pred_labels != labels[s:])\n",
    "\n",
    "def train_and_evaluate_knn(X, s, labels):\n",
    "    k_vals = [1, 3, 5]\n",
    "    errors = []\n",
    "    for k in k_vals:\n",
    "        neigh = KNeighborsClassifier(n_neighbors=k)\n",
    "        neigh.fit(X[:s], labels[:s])\n",
    "        pred_labels = neigh.predict(X[s:])\n",
    "        errors.append(np.mean(pred_labels != labels[s:]))\n",
    "    return min(errors)"
   ]
  },
  {
   "cell_type": "code",
   "execution_count": 5,
   "metadata": {},
   "outputs": [],
   "source": [
    "# load data\n",
    "data = sio.loadmat(\"../datasets/TrainImages.mat\")['TrainImages']\n",
    "data = data/255.0\n",
    "data = data.reshape(60000, 28*28)\n",
    "X = PCA(n_components=100).fit_transform(data)\n",
    "\n",
    "labels = sio.loadmat(\"../datasets/TrainImageLabels.mat\")['Labels']\n",
    "labels = np.array(labels, dtype='int').squeeze()\n",
    "Y = np.copy(labels)"
   ]
  },
  {
   "cell_type": "code",
   "execution_count": 6,
   "metadata": {},
   "outputs": [],
   "source": [
    "# set parameters\n",
    "n = 8\n",
    "p = 60\n",
    "s_list = [20, 50, 100, 500, 1000, 5000] #, 20000, 50000]\n",
    "num_reps = 20"
   ]
  },
  {
   "cell_type": "code",
   "execution_count": 7,
   "metadata": {},
   "outputs": [],
   "source": [
    "# compute the adjancency matrix and the graph Laplacian\n",
    "W = construct_adjacency_matrix(X, n)\n",
    "d = np.array(np.sum(W, axis=1)).squeeze()\n",
    "D = coo_matrix(W.shape)\n",
    "D.setdiag(d)\n",
    "L = D - W"
   ]
  },
  {
   "cell_type": "code",
   "execution_count": 8,
   "metadata": {},
   "outputs": [],
   "source": [
    "# compute first p eigenvectors\n",
    "p = 30\n",
    "w , v = eigsh(L, k=p, which='SM')\n",
    "v = np.real(v)"
   ]
  },
  {
   "cell_type": "code",
   "execution_count": 9,
   "metadata": {},
   "outputs": [
    {
     "name": "stderr",
     "output_type": "stream",
     "text": [
      "Run reps: 100%|██████████| 20/20 [00:05<00:00,  3.61it/s]\n",
      "Run reps: 100%|██████████| 20/20 [00:05<00:00,  3.96it/s]\n",
      "Run reps: 100%|██████████| 20/20 [00:05<00:00,  3.61it/s]\n",
      "Run reps:   5%|▌         | 1/20 [00:04<01:22,  4.34s/it]/Users/ashwindesilva/miniforge3/envs/std_dl/lib/python3.8/site-packages/joblib/externals/loky/process_executor.py:702: UserWarning: A worker stopped while some jobs were given to the executor. This can be caused by a too short worker timeout or by a memory leak.\n",
      "  warnings.warn(\n",
      "Run reps: 100%|██████████| 20/20 [00:10<00:00,  1.96it/s]\n",
      "Run reps: 100%|██████████| 20/20 [00:14<00:00,  1.34it/s]\n",
      "Run reps: 100%|██████████| 20/20 [00:59<00:00,  2.99s/it]\n"
     ]
    }
   ],
   "source": [
    "# train and evaluate\n",
    "def loop(X, v, s, labels):\n",
    "    idx = np.random.permutation(len(v))\n",
    "    error_lssl = train_and_evaluate(v[idx], s, labels[idx])\n",
    "    error_knn = train_and_evaluate_knn(X, s, labels)\n",
    "\n",
    "    error_lssl_1k = -1\n",
    "    if s < 1000:\n",
    "        idx = np.random.permutation(1000)\n",
    "        error_lssl_1k = train_and_evaluate(v[idx], s, labels[idx])\n",
    "\n",
    "    error_lssl_10k = -1\n",
    "    if s < 10000:\n",
    "        idx = np.random.permutation(10000)\n",
    "        error_lssl_10k = train_and_evaluate(v[idx], s, labels[idx])\n",
    "\n",
    "    return [error_lssl, error_lssl_1k, error_lssl_10k, error_knn]\n",
    "\n",
    "mean_error_list = np.zeros((len(s_list), 4))\n",
    "std_error_list = np.zeros((len(s_list), 4))\n",
    "for i, s in enumerate(s_list):\n",
    "    with tqdm_joblib(tqdm(desc=\"Run reps\", total=num_reps)) as progress_bar:\n",
    "        buffer = np.array(Parallel(n_jobs=-1)(delayed(loop)(X, v, s, labels) for r in range(num_reps)))\n",
    "    mean_error_list[i] = np.mean(buffer, axis=0)\n",
    "    std_error_list[i] = np.std(buffer, axis=0)"
   ]
  },
  {
   "cell_type": "code",
   "execution_count": 11,
   "metadata": {},
   "outputs": [
    {
     "data": {
      "image/png": "[encoded data removed]",
      "text/plain": [
       "<Figure size 720x504 with 1 Axes>"
      ]
     },
     "metadata": {},
     "output_type": "display_data"
    }
   ],
   "source": [
    "# plot\n",
    "fig, ax = plt.subplots(figsize=(10, 7))\n",
    "sns.set_style(\"white\")\n",
    "sns.set_style(\"ticks\")\n",
    "sns.set_palette(\"pastel\")\n",
    "s_list = np.array(s_list)\n",
    "for i in range(mean_error_list.shape[-1]):\n",
    "    errors = mean_error_list[:, i]\n",
    "    idx = np.where(errors != -1)[0]\n",
    "    ax.plot(s_list[idx], errors[idx], lw=3, marker='o', markersize=7)\n",
    "ax.set_xscale('log')\n",
    "ax.tick_params(labelsize=15)\n",
    "ax.set_xlabel(\"Number of Labeled Samples\", fontsize=15)\n",
    "ax.set_ylabel(\"Error Rate\", fontsize=15)\n",
    "sns.despine()\n",
    "plt.show()"
   ]
  }
 ],
 "metadata": {
  "kernelspec": {
   "display_name": "std_dl",
   "language": "python",
   "name": "python3"
  },
  "language_info": {
   "codemirror_mode": {
    "name": "ipython",
    "version": 3
   },
   "file_extension": ".py",
   "mimetype": "text/x-python",
   "name": "python",
   "nbconvert_exporter": "python",
   "pygments_lexer": "ipython3",
   "version": "3.8.12"
  },
  "orig_nbformat": 4
 },
 "nbformat": 4,
 "nbformat_minor": 2
}
