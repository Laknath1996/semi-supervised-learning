{
 "cells": [
  {
   "cell_type": "code",
   "execution_count": 33,
   "metadata": {},
   "outputs": [],
   "source": [
    "import numpy as np\n",
    "import scipy.io as sio\n",
    "import matplotlib.pyplot as plt\n",
    "from scipy.sparse import bsr_matrix, coo_matrix\n",
    "from scipy.sparse.linalg import eigs\n",
    "import joblib\n",
    "from joblib import Parallel, delayed\n",
    "import itertools\n",
    "from sklearn.neighbors import NearestNeighbors\n",
    "from sklearn.decomposition import PCA\n",
    "from tqdm import tqdm\n",
    "import contextlib\n",
    "import copy\n",
    "import seaborn as sns"
   ]
  },
  {
   "cell_type": "code",
   "execution_count": 24,
   "metadata": {},
   "outputs": [],
   "source": [
    "def construct_adjacency_matrix(X, n):\n",
    "    k = X.shape[0]\n",
    "    W = np.zeros((k, k))\n",
    "    neigh = NearestNeighbors(n_neighbors=n+1).fit(X)\n",
    "    neighbors = neigh.kneighbors(X, n_neighbors=n+1, return_distance=False)[:, 1:]\n",
    "    for i in range(k):\n",
    "        W[i, neighbors[i]] = 1\n",
    "    W = coo_matrix(W)\n",
    "    W = W + W.transpose()\n",
    "    W = W.sign()\n",
    "    return W\n",
    "\n",
    "def train_and_evaluate(v, s, labels):\n",
    "    E = v[:s]\n",
    "    conf = []\n",
    "    for label in np.unique(labels):\n",
    "        Y = np.copy(labels)\n",
    "        Y[labels == label] = 1\n",
    "        Y[labels != label] = -1\n",
    "        a = np.linalg.pinv(E) @ Y[:s]\n",
    "        conf.append(np.sum(v[s:] * a, axis=1).tolist())\n",
    "    conf = np.array(conf)\n",
    "    pred_labels = np.argmax(conf, axis=0)\n",
    "    return np.mean(pred_labels != labels[s:])"
   ]
  },
  {
   "cell_type": "code",
   "execution_count": 25,
   "metadata": {},
   "outputs": [],
   "source": [
    "# load data\n",
    "data = sio.loadmat(\"datasets/TrainImages.mat\")['TrainImages']\n",
    "data = data/255.0\n",
    "data = data.reshape(60000, 28*28)\n",
    "X = PCA(n_components=100).fit_transform(data)\n",
    "\n",
    "labels = sio.loadmat(\"datasets/TrainImageLabels.mat\")['Labels']\n",
    "labels = np.array(labels, dtype='int').squeeze()\n",
    "Y = np.copy(labels)"
   ]
  },
  {
   "cell_type": "code",
   "execution_count": 26,
   "metadata": {},
   "outputs": [],
   "source": [
    "# set parameters\n",
    "n = 8\n",
    "p = 50\n",
    "s_list = [20, 50, 100, 500, 1000, 5000, 20000, 50000]\n",
    "num_reps = 1"
   ]
  },
  {
   "cell_type": "code",
   "execution_count": 27,
   "metadata": {},
   "outputs": [],
   "source": [
    "# compute the adjancency matrix and the graph Laplacian\n",
    "W = construct_adjacency_matrix(X, n)\n",
    "d = np.array(np.sum(W, axis=1)).squeeze()\n",
    "D = coo_matrix(W.shape)\n",
    "D.setdiag(d)\n",
    "L = D - W"
   ]
  },
  {
   "cell_type": "code",
   "execution_count": 28,
   "metadata": {},
   "outputs": [],
   "source": [
    "# compute first p eigenvectors\n",
    "# p = s // 5\n",
    "_ , v = eigs(W, k=60)\n",
    "v = np.real(v)"
   ]
  },
  {
   "cell_type": "code",
   "execution_count": 29,
   "metadata": {},
   "outputs": [],
   "source": [
    "# train and evaluate\n",
    "mean_error_list = []\n",
    "std_error_list = []\n",
    "for s in s_list:\n",
    "    buffer = []\n",
    "    for rep in range(num_reps):\n",
    "        idx = np.random.permutation(len(v))\n",
    "        buffer.append(train_and_evaluate(v[idx], s, labels[idx]))\n",
    "    mean_error_list.append(np.mean(buffer))\n",
    "    std_error_list.append(np.std(buffer))"
   ]
  },
  {
   "cell_type": "code",
   "execution_count": 43,
   "metadata": {},
   "outputs": [
    {
     "data": {
      "image/png": "[encoded data removed]",
      "text/plain": [
       "<Figure size 720x504 with 1 Axes>"
      ]
     },
     "metadata": {},
     "output_type": "display_data"
    }
   ],
   "source": [
    "# plot\n",
    "fig, ax = plt.subplots(figsize=(10, 7))\n",
    "sns.set_style(\"white\")\n",
    "sns.set_style(\"ticks\")\n",
    "ax.plot(s_list, mean_error_list, 'ro-', lw=3)\n",
    "sns.set_palette(\"pastel\")\n",
    "ax.set_xscale('log')\n",
    "ax.tick_params(labelsize=15)\n",
    "ax.set_xlabel(\"Number of Labeled Samples\", fontsize=15)\n",
    "ax.set_ylabel(\"Error Rate\", fontsize=15)\n",
    "sns.despine()\n",
    "plt.show()"
   ]
  }
 ],
 "metadata": {
  "kernelspec": {
   "display_name": "std_dl",
   "language": "python",
   "name": "python3"
  },
  "language_info": {
   "codemirror_mode": {
    "name": "ipython",
    "version": 3
   },
   "file_extension": ".py",
   "mimetype": "text/x-python",
   "name": "python",
   "nbconvert_exporter": "python",
   "pygments_lexer": "ipython3",
   "version": "3.8.12"
  },
  "orig_nbformat": 4
 },
 "nbformat": 4,
 "nbformat_minor": 2
}
